{
 "cells": [
  {
   "cell_type": "code",
   "execution_count": 1,
   "metadata": {},
   "outputs": [],
   "source": [
    "import pandas as pd\n",
    "from sqlalchemy import create_engine\n",
    "from sqlalchemy import text\n",
    "import luigi"
   ]
  },
  {
   "cell_type": "code",
   "execution_count": 2,
   "metadata": {},
   "outputs": [],
   "source": [
    "def postgres_engine():\n",
    "    db_username = 'postgres'\n",
    "    db_password = 'qwerty123'\n",
    "    db_host = 'localhost:5432'\n",
    "    db_name = 'intro_db'\n",
    "\n",
    "    engine_str = f\"postgresql://{db_username}:{db_password}@{db_host}/{db_name}\"\n",
    "    engine = create_engine(engine_str)\n",
    "\n",
    "    return engine"
   ]
  },
  {
   "cell_type": "code",
   "execution_count": 19,
   "metadata": {},
   "outputs": [],
   "source": [
    "class LoadData(luigi.Task):\n",
    "    def requires(self):\n",
    "        pass\n",
    "    \n",
    "    def run(self):\n",
    "        dw_engine = postgres_engine()\n",
    "\n",
    "        transform_data_db = pd.read_csv('transform-data/sales_clean.csv')\n",
    "\n",
    "        create_table_query = \"\"\"\n",
    "        CREATE TABLE IF NOT EXISTS intro_db (\n",
    "            created_at TIMESTAMP NOT NULL DEFAULT now(),\n",
    "            name_product TEXT NOT NULL,\n",
    "            category TEXT NOT NULL,\n",
    "            link TEXT NOT NULL,\n",
    "            rating NUMERIC NOT NULL,\n",
    "            rating_count INT NOT NULL,\n",
    "            price_sale_rupee NUMERIC NOT NULL,\n",
    "            discount TEXT NOT NULL\n",
    "        );\n",
    "        \"\"\"\n",
    "\n",
    "        with dw_engine.connect() as conn:\n",
    "            conn.execute(text(create_table_query))\n",
    "\n",
    "        transform_data_db.to_sql(name=\"intro_db\", con=dw_engine, if_exists=\"append\", index=False)\n",
    "\n",
    "\n",
    "    def output(self):\n",
    "        return luigi.LocalTarget('raw-data-2/percobaan_db.csv')"
   ]
  },
  {
   "cell_type": "code",
   "execution_count": 13,
   "metadata": {},
   "outputs": [],
   "source": [
    "class LoadData(luigi.Task):\n",
    "    def requires(self):\n",
    "        pass\n",
    "    \n",
    "    def run(self):\n",
    "        dw_engine = postgres_engine()\n",
    "\n",
    "        # Membaca data dari CSV\n",
    "        transform_data_db = pd.read_csv('transform-data/sales_clean.csv')\n",
    "\n",
    "        # Query untuk membuat tabel jika belum ada\n",
    "        create_table_query = \"\"\"\n",
    "        CREATE TABLE IF NOT EXISTS intro_db (\n",
    "            name_product TEXT NOT NULL,\n",
    "            category TEXT NOT NULL,\n",
    "            link TEXT NOT NULL,\n",
    "            rating TEXT NOT NULL,\n",
    "            rating_count TEXT NOT NULL,\n",
    "            price_sale_rupee NUMERIC NOT NULL,\n",
    "            discount TEXT NOT NULL,\n",
    "            created_at TIMESTAMP NOT NULL DEFAULT now()\n",
    "        );\n",
    "        \"\"\"\n",
    "\n",
    "        with dw_engine.connect() as conn:\n",
    "            # Membuat tabel jika belum ada\n",
    "            conn.execute(text(create_table_query))\n",
    "\n",
    "            # Memasukkan data dengan kolom-kolom tertentu\n",
    "            for _, row in transform_data_db.iterrows():\n",
    "                insert_query = \"\"\"\n",
    "                INSERT INTO intro_db (name_product, category, link, rating, rating_count, price_sale_rupee, discount)\n",
    "                VALUES (:name_product, :category, :link, :rating, :rating_count, :price_sale_rupee, :discount);\n",
    "                \"\"\"\n",
    "                conn.execute(\n",
    "                    text(insert_query),\n",
    "                    {\n",
    "                        \"name_product\": row[\"name_product\"],\n",
    "                        \"category\": row[\"category\"],\n",
    "                        \"link\": row[\"link\"],\n",
    "                        \"rating\": row[\"rating\"],\n",
    "                        \"rating_count\": row[\"rating_count\"],\n",
    "                        \"price_sale_rupee\": row[\"price_sale_rupee\"],\n",
    "                        \"discount\": row[\"discount\"],\n",
    "                    },\n",
    "                )\n",
    "\n",
    "    def output(self):\n",
    "        return luigi.LocalTarget('raw-data-2/percobaan_db.csv')\n"
   ]
  },
  {
   "cell_type": "code",
   "execution_count": 20,
   "metadata": {},
   "outputs": [
    {
     "name": "stderr",
     "output_type": "stream",
     "text": [
      "DEBUG: Checking if LoadData() is complete\n",
      "INFO: Informed scheduler that task   LoadData__99914b932b   has status   PENDING\n",
      "INFO: Done scheduling tasks\n",
      "INFO: Running Worker with 1 processes\n",
      "DEBUG: Asking scheduler for work...\n",
      "DEBUG: Pending tasks: 1\n",
      "INFO: [pid 18644] Worker Worker(salt=7576695779, workers=1, host=zueible, username=LENOVO, pid=18644) running   LoadData()\n"
     ]
    },
    {
     "name": "stderr",
     "output_type": "stream",
     "text": [
      "INFO: [pid 18644] Worker Worker(salt=7576695779, workers=1, host=zueible, username=LENOVO, pid=18644) done      LoadData()\n",
      "DEBUG: 1 running tasks, waiting for next task to finish\n",
      "INFO: Informed scheduler that task   LoadData__99914b932b   has status   DONE\n",
      "DEBUG: Asking scheduler for work...\n",
      "DEBUG: Done\n",
      "DEBUG: There are no more tasks to run at this time\n",
      "INFO: Worker Worker(salt=7576695779, workers=1, host=zueible, username=LENOVO, pid=18644) was stopped. Shutting down Keep-Alive thread\n",
      "INFO: \n",
      "===== Luigi Execution Summary =====\n",
      "\n",
      "Scheduled 1 tasks of which:\n",
      "* 1 ran successfully:\n",
      "    - 1 LoadData()\n",
      "\n",
      "This progress looks :) because there were no failed tasks or missing dependencies\n",
      "\n",
      "===== Luigi Execution Summary =====\n",
      "\n"
     ]
    },
    {
     "data": {
      "text/plain": [
       "True"
      ]
     },
     "execution_count": 20,
     "metadata": {},
     "output_type": "execute_result"
    }
   ],
   "source": [
    "luigi.build([LoadData()], local_scheduler = True)"
   ]
  },
  {
   "cell_type": "code",
   "execution_count": null,
   "metadata": {},
   "outputs": [],
   "source": []
  }
 ],
 "metadata": {
  "kernelspec": {
   "display_name": "Python 3",
   "language": "python",
   "name": "python3"
  },
  "language_info": {
   "codemirror_mode": {
    "name": "ipython",
    "version": 3
   },
   "file_extension": ".py",
   "mimetype": "text/x-python",
   "name": "python",
   "nbconvert_exporter": "python",
   "pygments_lexer": "ipython3",
   "version": "3.12.3"
  }
 },
 "nbformat": 4,
 "nbformat_minor": 2
}
